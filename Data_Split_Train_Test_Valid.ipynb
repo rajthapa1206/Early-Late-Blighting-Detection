{
 "cells": [
  {
   "cell_type": "markdown",
   "id": "2e4892e3",
   "metadata": {},
   "source": [
    "# GROUP-3\n",
    "#MD Fakrul Islam (613839)\n",
    "#Adama Daffeh (613827) \n",
    "#Raj Kumar Thapa (613819)\n",
    "#Adane Nigus (112351) "
   ]
  },
  {
   "cell_type": "code",
   "execution_count": 20,
   "id": "53a8b8e3",
   "metadata": {},
   "outputs": [],
   "source": [
    "import splitfolders"
   ]
  },
  {
   "cell_type": "code",
   "execution_count": 21,
   "id": "8e9c705f",
   "metadata": {},
   "outputs": [],
   "source": [
    "CROP_IMAGE_LOCATION=\"./Data/Potato/color\"\n",
    "CROP_IMAGE_SPLIT_LOCATION=\"./Data/Potato/split\""
   ]
  },
  {
   "cell_type": "code",
   "execution_count": 22,
   "id": "bd493649",
   "metadata": {},
   "outputs": [
    {
     "name": "stderr",
     "output_type": "stream",
     "text": [
      "Copying files: 4282 files [00:11, 358.37 files/s]\n"
     ]
    }
   ],
   "source": [
    "splitfolders.ratio(CROP_IMAGE_LOCATION, output=CROP_IMAGE_SPLIT_LOCATION,\n",
    "    seed=1337, ratio=(.7, .15, .15), group_prefix=None, move=False) # default values"
   ]
  },
  {
   "cell_type": "code",
   "execution_count": null,
   "id": "410f7c48",
   "metadata": {},
   "outputs": [],
   "source": []
  }
 ],
 "metadata": {
  "kernelspec": {
   "display_name": "Python 3",
   "language": "python",
   "name": "python3"
  },
  "language_info": {
   "codemirror_mode": {
    "name": "ipython",
    "version": 3
   },
   "file_extension": ".py",
   "mimetype": "text/x-python",
   "name": "python",
   "nbconvert_exporter": "python",
   "pygments_lexer": "ipython3",
   "version": "3.9.7"
  }
 },
 "nbformat": 4,
 "nbformat_minor": 5
}
