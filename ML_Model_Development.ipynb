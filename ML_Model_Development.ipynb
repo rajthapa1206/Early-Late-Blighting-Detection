{
 "cells": [
  {
   "cell_type": "markdown",
   "id": "e413430b",
   "metadata": {},
   "source": [
    "# GROUP-3\n",
    "#MD Fakrul Islam (613839)\n",
    "#Adama Daffeh (613827) \n",
    "#Raj Kumar Thapa (613819)\n",
    "#Adane Nigus (112351) "
   ]
  },
  {
   "cell_type": "code",
   "execution_count": 11,
   "id": "f52d9052",
   "metadata": {},
   "outputs": [
    {
     "name": "stdout",
     "output_type": "stream",
     "text": [
      "1501\n",
      "2629\n",
      "152\n"
     ]
    }
   ],
   "source": [
    "import os\n",
    "\n",
    "IMAGE_Files_EarlyBlight = []\n",
    "IMAGE_Files_LateBlight = []\n",
    "IMAGE_Files_Healthy = []\n",
    "\n",
    "for x in os.listdir('./Data/Potato/color/EarlyBlight/'):\n",
    "    if x.endswith(\".JPG\"):\n",
    "        IMAGE_Files_EarlyBlight.append('./Data/Potato/color/EarlyBlight/'+x)\n",
    "      \n",
    "        \n",
    "for x in os.listdir('./Data/Potato/color/LateBlight/'):\n",
    "    if x.endswith(\".JPG\"):\n",
    "        IMAGE_Files_LateBlight.append('./Data/Potato/color/LateBlight/'+x)\n",
    "        \n",
    " \n",
    "for x in os.listdir('./Data/Potato/color/Healthy/'):\n",
    "    if x.endswith(\".JPG\"):\n",
    "        IMAGE_Files_Healthy.append('./Data/Potato/color/Healthy/'+x)\n",
    "        \n",
    "print(len(IMAGE_Files_EarlyBlight))\n",
    "print(len(IMAGE_Files_LateBlight))\n",
    "print(len(IMAGE_Files_Healthy))"
   ]
  },
  {
   "cell_type": "code",
   "execution_count": 12,
   "id": "0824fab6",
   "metadata": {},
   "outputs": [
    {
     "name": "stdout",
     "output_type": "stream",
     "text": [
      "['./Data/Potato/color/EarlyBlight/AUG__POTATO_EB_0.JPG', './Data/Potato/color/EarlyBlight/AUG__POTATO_EB_1.JPG', './Data/Potato/color/EarlyBlight/AUG__POTATO_EB_10.JPG', './Data/Potato/color/EarlyBlight/AUG__POTATO_EB_100.JPG', './Data/Potato/color/EarlyBlight/AUG__POTATO_EB_101.JPG', './Data/Potato/color/EarlyBlight/AUG__POTATO_EB_102.JPG', './Data/Potato/color/EarlyBlight/AUG__POTATO_EB_103.JPG', './Data/Potato/color/EarlyBlight/AUG__POTATO_EB_104.JPG', './Data/Potato/color/EarlyBlight/AUG__POTATO_EB_105.JPG', './Data/Potato/color/EarlyBlight/AUG__POTATO_EB_106.JPG']\n"
     ]
    },
    {
     "data": {
      "text/plain": [
       "4282"
      ]
     },
     "execution_count": 12,
     "metadata": {},
     "output_type": "execute_result"
    }
   ],
   "source": [
    "Merged_Dataset = IMAGE_Files_EarlyBlight + IMAGE_Files_LateBlight + IMAGE_Files_Healthy\n",
    "print(Merged_Dataset[0:10])\n",
    "\n",
    "len(Merged_Dataset)\n"
   ]
  },
  {
   "cell_type": "code",
   "execution_count": 13,
   "id": "2a35589c",
   "metadata": {},
   "outputs": [],
   "source": [
    "import os\n",
    "import cv2\n",
    "import numpy as np\n",
    "import pandas as pd\n",
    "from scipy import ndimage\n",
    "from scipy.ndimage import correlate1d\n",
    "from scipy.ndimage import gaussian_filter1d\n",
    "from scipy.ndimage import uniform_filter1d\n",
    "from scipy.ndimage import minimum_filter1d\n",
    "from scipy.ndimage import maximum_filter1d\n",
    "from scipy.ndimage import sobel, generic_gradient_magnitude\n",
    "from skimage.filters.rank import entropy\n",
    "from skimage.morphology import disk\n",
    "from scipy.ndimage import convolve1d\n",
    "from sklearn.preprocessing import MinMaxScaler\n",
    "from functools import reduce\n",
    "from operator import ixor"
   ]
  },
  {
   "cell_type": "code",
   "execution_count": 14,
   "id": "14f0b661",
   "metadata": {},
   "outputs": [
    {
     "name": "stdout",
     "output_type": "stream",
     "text": [
      "(32, 32)\n"
     ]
    }
   ],
   "source": [
    "features=['convolve1d','entropy',\n",
    "'standard_deviation','Canny','prewitt','percentile_filter',\n",
    "'fourier_ellipsoid','fourier_uniform','fourier_gaussian',\n",
    "'generic_gradient_magnitude','minimum_filter1d','maximum_filter1d','uniform_filter1d', \n",
    "'gaussian_filter1d_x','gaussian_filter1d_y','gaussian_filter1d_z','correlate1df',\n",
    "'convolve_constant_k1', 'convolve_constant_k2', 'convolve_constant_k3', \n",
    "'convolve_reflect_k1',  'convolve_reflect_k2' , 'convolve_reflect_k3',\n",
    "'convolve_nearest_k1',  'convolve_nearest_k2',  'convolve_nearest_k3',\n",
    "'convolve_wrap_k1',     'convolve_wrap_k2',     'convolve_wrap_k3',\n",
    "'convolve_mirror_k1',   'convolve_mirror_k2',   'convolve_mirror_k3', \n",
    "'outcome']\n",
    "\n",
    "values = []\n",
    "\n",
    "k1 = np.array([[1,1,1],[1,1,0],[1,0,0]])\n",
    "k2  = np.array([[0,1,0],[0,1,0],[0,1,0]])\n",
    "k3  = np.array([[1,0,0],[0,1,0],[0,0,1]])\n",
    "\n",
    "img = cv2.imread(Merged_Dataset[3])\n",
    "img = cv2.cvtColor(img, cv2.COLOR_BGR2GRAY)\n",
    "print(img.shape)"
   ]
  },
  {
   "cell_type": "code",
   "execution_count": 15,
   "id": "e3925a87",
   "metadata": {},
   "outputs": [],
   "source": [
    "def gabor_filters(img, arr):\n",
    "    num = 1  #To count numbers up in order to give Gabor features a lable in the data frame\n",
    "    kernels = []  #Create empty list to hold all kernels that we will generate in a loop\n",
    "    for theta in range(2):\n",
    "        theta = theta / 4. * np.pi\n",
    "        for sigma in (1, 3):\n",
    "            for lamda in np.arange(0, np.pi, np.pi / 4):\n",
    "                for gamma in (0.05, 0.5):\n",
    "                    gabor_label = 'Gabor' + str(num)\n",
    "                    ksize=9\n",
    "                    kernel = cv2.getGaborKernel((ksize, ksize), sigma, theta, lamda, gamma, 0, ktype=cv2.CV_32F)   \n",
    "                    result = cv2.filter2D(img, cv2.CV_8UC3, kernel)\n",
    "                    arr = np.append(arr, np.array(result.flatten()), axis=0)\n",
    "                    num += 1 \n",
    "                    #print(fimg.flatten())\n",
    "    return arr"
   ]
  },
  {
   "cell_type": "code",
   "execution_count": 16,
   "id": "14280f3b",
   "metadata": {},
   "outputs": [],
   "source": [
    "features = {}\n",
    "\n",
    "convolve_constant_k1 = []\n",
    "convolve_constant_k2 = []\n",
    "convolve_constant_k3 = []\n",
    "\n",
    "convolve_reflect_k1  = []\n",
    "convolve_reflect_k2  = []\n",
    "convolve_reflect_k3  = []\n",
    "\n",
    "convolve_nearest_k1  = []\n",
    "convolve_nearest_k2  = []\n",
    "convolve_nearest_k3  = []\n",
    "\n",
    "convolve_wrap_k1     = []\n",
    "convolve_wrap_k2     = []\n",
    "convolve_wrap_k3     = []\n",
    "\n",
    "convolve_mirror_k1   = []\n",
    "convolve_mirror_k2   = []\n",
    "convolve_mirror_k3   = []\n",
    "\n",
    "gaussian_filter1d_x  = []\n",
    "gaussian_filter1d_y  = []\n",
    "gaussian_filter1d_z  = []\n",
    "\n",
    "convolve1dl          = []\n",
    "entropyl             = []\n",
    "standard_deviationl  = []\n",
    "Cannyl               = []\n",
    "prewittl             = []\n",
    "percentile_filterl   = []\n",
    "fourier_ellipsoidl   = []\n",
    "fourier_uniforml     = []\n",
    "fourier_gaussianl    = []\n",
    "generic_gradient_magnitudel = []\n",
    "minimum_filter1dl    = []\n",
    "maximum_filter1dl    = []\n",
    "uniform_filter1dl    = []\n",
    "correlate1df         = []\n",
    "\n",
    "outcome              = []\n"
   ]
  },
  {
   "cell_type": "code",
   "execution_count": 17,
   "id": "2d01f772",
   "metadata": {},
   "outputs": [],
   "source": [
    "IMG_WIDTH, IMG_HEIGHT = (32, 32)\n",
    "\n",
    "#sample = Merged_Dataset[0:5000]\n",
    "\n",
    "X = []\n",
    "Y = []"
   ]
  },
  {
   "cell_type": "code",
   "execution_count": 18,
   "id": "4800e635",
   "metadata": {},
   "outputs": [],
   "source": [
    "#for each_image in sample:\n",
    "for each_image in Merged_Dataset:\n",
    "    img = cv2.imread(each_image)\n",
    "    img = cv2.cvtColor(img, cv2.COLOR_BGR2GRAY)\n",
    "    img = cv2.resize(img, (IMG_WIDTH, IMG_HEIGHT), interpolation = cv2.INTER_AREA)  \n",
    "    \n",
    "    arr = np.array([])\n",
    "    \n",
    "    result = convolve1d(img, mode = 'nearest' ,weights=[1, 3], cval=0.75)\n",
    "    arr = np.append(arr, np.array(result.flatten()), axis=0)\n",
    "    \n",
    "    result = entropy(img, disk(1))\n",
    "    arr = np.append(arr, np.array(result.flatten()), axis=0)\n",
    "\n",
    "    result = cv2.Canny(img, 100,200)\n",
    "    arr = np.append(arr, np.array(result.flatten()), axis=0)\n",
    "\n",
    "    result = ndimage.prewitt(img)\n",
    "    arr = np.append(arr, np.array(result.flatten()), axis=0)\n",
    "    \n",
    "    result = ndimage.percentile_filter(img, percentile=20, size=50)\n",
    "    arr = np.append(arr, np.array(result.flatten()), axis=0)\n",
    "    \n",
    "    result = ndimage.fourier_ellipsoid(img, size=25)\n",
    "    arr = np.append(arr, np.array(result.flatten()), axis=0)\n",
    "\n",
    "    result = ndimage.fourier_uniform(img, size=20)\n",
    "    arr = np.append(arr, np.array(result.flatten()), axis=0)\n",
    "    \n",
    "    result = ndimage.fourier_gaussian(img, sigma=4) \n",
    "    arr = np.append(arr, np.array(result.flatten()), axis=0)\n",
    "    \n",
    "    result = generic_gradient_magnitude(img, sobel)\n",
    "    arr = np.append(arr, np.array(result.flatten()), axis=0)\n",
    "        \n",
    "    result=minimum_filter1d(img, size=3)\n",
    "    arr = np.append(arr, np.array(result.flatten()), axis=0)\n",
    "    \n",
    "    result = maximum_filter1d(img, size=3)\n",
    "    arr = np.append(arr, np.array(result.flatten()), axis=0)\n",
    "    \n",
    "    result = uniform_filter1d(img, size=3)\n",
    "    arr = np.append(arr, np.array(result.flatten()), axis=0)\n",
    "    \n",
    "    result   = gaussian_filter1d(img, 1)\n",
    "    arr = np.append(arr, np.array(result.flatten()), axis=0)\n",
    "    \n",
    "    result = gaussian_filter1d(img, 2)\n",
    "    arr = np.append(arr, np.array(result.flatten()), axis=0)\n",
    "\n",
    "    result = gaussian_filter1d(img, 3)\n",
    "    arr = np.append(arr, np.array(result.flatten()), axis=0)\n",
    "    \n",
    "    result = correlate1d(img, [-1, 1])    \n",
    "    arr = np.append(arr, np.array(result.flatten()), axis=0)\n",
    "    \n",
    "    result = ndimage.convolve(img, k1, mode='constant', cval=0.0) \n",
    "    arr = np.append(arr, np.array(result.flatten()), axis=0)\n",
    "\n",
    "    result = ndimage.convolve(img, k2, mode='constant', cval=0.0)    \n",
    "    arr = np.append(arr, np.array(result.flatten()), axis=0)\n",
    "\n",
    "    result = ndimage.convolve(img, k3, mode='constant', cval=0.0)    \n",
    "    arr = np.append(arr, np.array(result.flatten()), axis=0)    \n",
    "    \n",
    "    result = ndimage.convolve(img, k1, mode='reflect',  cval=0.5) \n",
    "    arr = np.append(arr, np.array(result.flatten()), axis=0)\n",
    "\n",
    "    result = ndimage.convolve(img, k2, mode='reflect',  cval=0.5) \n",
    "    arr = np.append(arr, np.array(result.flatten()), axis=0)\n",
    "\n",
    "    result = ndimage.convolve(img, k3, mode='reflect',  cval=0.5) \n",
    "    arr = np.append(arr, np.array(result.flatten()), axis=0)\n",
    "        \n",
    "    result = ndimage.convolve(img, k1, mode='nearest',  cval=1.0)\n",
    "    arr = np.append(arr, np.array(result.flatten()), axis=0)\n",
    "    \n",
    "    result = ndimage.convolve(img, k2, mode='nearest',  cval=1.0)\n",
    "    arr = np.append(arr, np.array(result.flatten()), axis=0)\n",
    "\n",
    "    result = ndimage.convolve(img, k3, mode='nearest', cval=1.0) \n",
    "    arr = np.append(arr, np.array(result.flatten()), axis=0)\n",
    "\n",
    "    result = ndimage.convolve(img, k1, mode='wrap', cval=1.5) \n",
    "    arr = np.append(arr, np.array(result.flatten()), axis=0)\n",
    "    \n",
    "    result = ndimage.convolve(img, k2, mode='wrap',   cval=1.5)\n",
    "    arr = np.append(arr, np.array(result.flatten()), axis=0)\n",
    "\n",
    "    result = ndimage.convolve(img, k3, mode='wrap', cval=1.5)  \n",
    "    arr = np.append(arr, np.array(result.flatten()), axis=0)\n",
    "\n",
    "    result = ndimage.convolve(img, k1, mode='mirror', cval=2.0)   \n",
    "    arr = np.append(arr, np.array(result.flatten()), axis=0)\n",
    "\n",
    "    result = ndimage.convolve(img, k2, mode='mirror', cval=2.0)    \n",
    "    arr = np.append(arr, np.array(result.flatten()), axis=0)    \n",
    "\n",
    "    result = ndimage.convolve(img, k3, mode='mirror', cval=2.0)    \n",
    "    arr = np.append(arr, np.array(result.flatten()), axis=0)\n",
    "    \n",
    "    arr = gabor_filters(img, arr)\n",
    "    \n",
    "    X.append(arr)\n",
    "    \n",
    "    if 'EB' in each_image:\n",
    "        Y.append(1)\n",
    "    if 'LB' in each_image:\n",
    "        Y.append(2)\n",
    "    if 'HL' in each_image:\n",
    "        Y.append(0)        "
   ]
  },
  {
   "cell_type": "code",
   "execution_count": 19,
   "id": "4e390810",
   "metadata": {},
   "outputs": [
    {
     "name": "stdout",
     "output_type": "stream",
     "text": [
      "4282\n",
      "4282\n",
      "[22. 13. 13. ... 89. 79. 53.]\n",
      "64512\n",
      "1\n"
     ]
    }
   ],
   "source": [
    "print(len(X))\n",
    "print(len(Y))\n",
    "\n",
    "print(X[0])\n",
    "print(len(X[0]))\n",
    "print(Y[0])"
   ]
  },
  {
   "cell_type": "code",
   "execution_count": 20,
   "id": "53e18dfe",
   "metadata": {},
   "outputs": [],
   "source": [
    "from sklearn.model_selection import train_test_split\n",
    "from sklearn.metrics import classification_report, confusion_matrix\n",
    "from sklearn.neighbors import KNeighborsClassifier\n",
    "import warnings\n",
    "warnings.filterwarnings(\"ignore\", category=DeprecationWarning)\n",
    "from sklearn.ensemble import RandomForestClassifier, GradientBoostingClassifier\n",
    "from sklearn.metrics import precision_recall_fscore_support as score\n",
    "from sklearn.model_selection import GridSearchCV\n",
    "from sklearn import metrics\n",
    "import time\n",
    "from sklearn import svm\n",
    "from sklearn.model_selection import GridSearchCV\n",
    "\n",
    "X_train, X_test, y_train, y_test = train_test_split(X, Y, test_size=0.30, random_state = 150)"
   ]
  },
  {
   "cell_type": "code",
   "execution_count": 21,
   "id": "a7b9ef19",
   "metadata": {},
   "outputs": [
    {
     "name": "stdout",
     "output_type": "stream",
     "text": [
      "Performence of KNeighborsClassifier\n",
      "Accuracy:  0.7750972762645915\n",
      "fit time:  1.6600286960601807\n",
      "pred_time:  207.9293966293335\n",
      "Classification Report:\n",
      "              precision    recall  f1-score   support\n",
      "\n",
      "           0       0.17      0.24      0.20        37\n",
      "           1       0.95      0.49      0.64       446\n",
      "           2       0.77      0.96      0.85       802\n",
      "\n",
      "    accuracy                           0.78      1285\n",
      "   macro avg       0.63      0.56      0.57      1285\n",
      "weighted avg       0.81      0.78      0.76      1285\n",
      "\n",
      "Confusion Matrix:\n",
      "[[  9   2  26]\n",
      " [ 22 217 207]\n",
      " [ 22  10 770]]\n"
     ]
    }
   ],
   "source": [
    "classifier = KNeighborsClassifier(n_neighbors=5, n_jobs=-1)\n",
    "\n",
    "start = time.time()\n",
    "classifier.fit(X_train, y_train)\n",
    "end = time.time()\n",
    "fit_time = (end - start)\n",
    "\n",
    "start = time.time()\n",
    "y_pred = classifier.predict(X_test)\n",
    "end = time.time()\n",
    "pred_time = (end - start)\n",
    "\n",
    "\n",
    "print('Performence of KNeighborsClassifier')\n",
    "print('Accuracy: ',metrics.accuracy_score(y_test, y_pred))\n",
    "print('fit time: ',fit_time)\n",
    "print('pred_time: ',pred_time)\n",
    "print('Classification Report:' ) \n",
    "print(classification_report(y_test, y_pred))\n",
    "print('Confusion Matrix:' ) \n",
    "print(confusion_matrix(y_test, y_pred))"
   ]
  },
  {
   "cell_type": "code",
   "execution_count": 31,
   "id": "f42331d8",
   "metadata": {},
   "outputs": [
    {
     "name": "stdout",
     "output_type": "stream",
     "text": [
      "Performence of RandomForestClassifier\n",
      "Accuracy:  0.8871595330739299\n",
      "fit time:  11.517104148864746\n",
      "pred_time:  1.2119314670562744\n",
      "Classification Report:\n",
      "              precision    recall  f1-score   support\n",
      "\n",
      "           0       0.00      0.00      0.00        37\n",
      "           1       0.88      0.86      0.87       446\n",
      "           2       0.89      0.94      0.92       802\n",
      "\n",
      "    accuracy                           0.89      1285\n",
      "   macro avg       0.59      0.60      0.60      1285\n",
      "weighted avg       0.86      0.89      0.87      1285\n",
      "\n",
      "Confusion Matrix:\n",
      "[[  0   8  29]\n",
      " [  0 385  61]\n",
      " [  0  47 755]]\n"
     ]
    },
    {
     "name": "stderr",
     "output_type": "stream",
     "text": [
      "C:\\ProgramData\\Anaconda3\\lib\\site-packages\\sklearn\\metrics\\_classification.py:1248: UndefinedMetricWarning: Precision and F-score are ill-defined and being set to 0.0 in labels with no predicted samples. Use `zero_division` parameter to control this behavior.\n",
      "  _warn_prf(average, modifier, msg_start, len(result))\n",
      "C:\\ProgramData\\Anaconda3\\lib\\site-packages\\sklearn\\metrics\\_classification.py:1248: UndefinedMetricWarning: Precision and F-score are ill-defined and being set to 0.0 in labels with no predicted samples. Use `zero_division` parameter to control this behavior.\n",
      "  _warn_prf(average, modifier, msg_start, len(result))\n",
      "C:\\ProgramData\\Anaconda3\\lib\\site-packages\\sklearn\\metrics\\_classification.py:1248: UndefinedMetricWarning: Precision and F-score are ill-defined and being set to 0.0 in labels with no predicted samples. Use `zero_division` parameter to control this behavior.\n",
      "  _warn_prf(average, modifier, msg_start, len(result))\n"
     ]
    }
   ],
   "source": [
    "rf = RandomForestClassifier(n_estimators=90, max_depth=300, n_jobs=-1)\n",
    "\n",
    "start = time.time()\n",
    "rf_model = rf.fit(X_train, y_train)\n",
    "end = time.time()\n",
    "fit_time = (end - start)\n",
    "\n",
    "start = time.time()\n",
    "y_pred = rf_model.predict(X_test)\n",
    "end = time.time()\n",
    "pred_time = (end - start)\n",
    "\n",
    "\n",
    "print('Performence of RandomForestClassifier')\n",
    "print('Accuracy: ',metrics.accuracy_score(y_test, y_pred))\n",
    "print('fit time: ',fit_time)\n",
    "print('pred_time: ',pred_time)\n",
    "print('Classification Report:' ) \n",
    "print(metrics.classification_report(y_test, y_pred))\n",
    "print('Confusion Matrix:' ) \n",
    "print(confusion_matrix(y_test, y_pred))"
   ]
  },
  {
   "cell_type": "code",
   "execution_count": 23,
   "id": "582bf684",
   "metadata": {},
   "outputs": [
    {
     "name": "stdout",
     "output_type": "stream",
     "text": [
      "Performence of SVM Classifier\n",
      "Accuracy:  0.8988326848249028\n",
      "fit time:  159.18961596488953\n",
      "pred_time:  151.50379180908203\n",
      "Classification Report:\n",
      "              precision    recall  f1-score   support\n",
      "\n",
      "           0       0.00      0.00      0.00        37\n",
      "           1       0.89      0.88      0.89       446\n",
      "           2       0.90      0.95      0.93       802\n",
      "\n",
      "    accuracy                           0.90      1285\n",
      "   macro avg       0.60      0.61      0.60      1285\n",
      "weighted avg       0.87      0.90      0.89      1285\n",
      "\n",
      "Confusion Matrix:\n",
      "[[  0   7  30]\n",
      " [  0 392  54]\n",
      " [  0  39 763]]\n"
     ]
    },
    {
     "name": "stderr",
     "output_type": "stream",
     "text": [
      "C:\\ProgramData\\Anaconda3\\lib\\site-packages\\sklearn\\metrics\\_classification.py:1248: UndefinedMetricWarning: Precision and F-score are ill-defined and being set to 0.0 in labels with no predicted samples. Use `zero_division` parameter to control this behavior.\n",
      "  _warn_prf(average, modifier, msg_start, len(result))\n",
      "C:\\ProgramData\\Anaconda3\\lib\\site-packages\\sklearn\\metrics\\_classification.py:1248: UndefinedMetricWarning: Precision and F-score are ill-defined and being set to 0.0 in labels with no predicted samples. Use `zero_division` parameter to control this behavior.\n",
      "  _warn_prf(average, modifier, msg_start, len(result))\n",
      "C:\\ProgramData\\Anaconda3\\lib\\site-packages\\sklearn\\metrics\\_classification.py:1248: UndefinedMetricWarning: Precision and F-score are ill-defined and being set to 0.0 in labels with no predicted samples. Use `zero_division` parameter to control this behavior.\n",
      "  _warn_prf(average, modifier, msg_start, len(result))\n"
     ]
    }
   ],
   "source": [
    "#SVM\n",
    "start = time.time()\n",
    "clf = svm.SVC()\n",
    "clf.fit(X_train,y_train)\n",
    "end = time.time()\n",
    "fit_time = (end - start)\n",
    "\n",
    "start = time.time()\n",
    "y_pred = clf.predict(X_test)\n",
    "end = time.time()\n",
    "pred_time = (end - start)\n",
    "\n",
    "print('Performence of SVM Classifier')\n",
    "print('Accuracy: ',metrics.accuracy_score(y_test, y_pred))\n",
    "print('fit time: ',fit_time)\n",
    "print('pred_time: ',pred_time)\n",
    "print('Classification Report:' ) \n",
    "print(metrics.classification_report(y_test, y_pred))\n",
    "print('Confusion Matrix:' ) \n",
    "print(confusion_matrix(y_test, y_pred))"
   ]
  },
  {
   "cell_type": "code",
   "execution_count": 25,
   "id": "8d832acd",
   "metadata": {},
   "outputs": [
    {
     "name": "stdout",
     "output_type": "stream",
     "text": [
      "Performence of DecisionTree Classifier\n",
      "Accuracy:  0.8178988326848249\n",
      "fit time:  75.39749646186829\n",
      "pred_time:  0.2265303134918213\n",
      "Classification Report:\n",
      "              precision    recall  f1-score   support\n",
      "\n",
      "           0       0.09      0.11      0.10        37\n",
      "           1       0.80      0.78      0.79       446\n",
      "           2       0.87      0.87      0.87       802\n",
      "\n",
      "    accuracy                           0.82      1285\n",
      "   macro avg       0.59      0.59      0.59      1285\n",
      "weighted avg       0.82      0.82      0.82      1285\n",
      "\n",
      "Confusion Matrix:\n",
      "[[  4  11  22]\n",
      " [ 15 349  82]\n",
      " [ 27  77 698]]\n"
     ]
    }
   ],
   "source": [
    "from sklearn.tree import DecisionTreeClassifier\n",
    "clf_Decision = DecisionTreeClassifier(criterion=\"gini\", max_depth=300, min_samples_leaf=5)   \n",
    "start = time.time()\n",
    "clf_Decision.fit(X_train,y_train)\n",
    "end = time.time()\n",
    "fit_time = (end - start)\n",
    "\n",
    "start = time.time()\n",
    "y_pred = clf_Decision.predict(X_test)\n",
    "end = time.time()\n",
    "pred_time = (end - start)\n",
    "\n",
    "print('Performence of DecisionTree Classifier')\n",
    "print('Accuracy: ',metrics.accuracy_score(y_test, y_pred))\n",
    "print('fit time: ',fit_time)\n",
    "print('pred_time: ',pred_time)\n",
    "print('Classification Report:' ) \n",
    "print(metrics.classification_report(y_test, y_pred))\n",
    "print('Confusion Matrix:' ) \n",
    "print(confusion_matrix(y_test, y_pred))"
   ]
  },
  {
   "cell_type": "code",
   "execution_count": 26,
   "id": "5505063f",
   "metadata": {},
   "outputs": [],
   "source": [
    "import numpy as np\n",
    "import pandas as pd\n",
    "import matplotlib.pyplot as plt\n",
    "import seaborn as sns"
   ]
  },
  {
   "cell_type": "code",
   "execution_count": 28,
   "id": "bcde6352",
   "metadata": {},
   "outputs": [
    {
     "name": "stdout",
     "output_type": "stream",
     "text": [
      "     Classifier  Accuracy  Precision  Recall  F1-Score\n",
      "0    KNeighbors        67         71      69        80\n",
      "1  DecisionTree        72         70      70        70\n",
      "2           SVM        85         85      83        84\n",
      "3  RandomForest        86         86      85        86\n"
     ]
    }
   ],
   "source": [
    "df = pd.DataFrame(\n",
    "    {'Classifier': [\"KNeighbors\", \"DecisionTree\", \"SVM\", \"RandomForest\"], \n",
    "     'Accuracy': [67, 72, 85, 86],\n",
    "     'Precision': [71,70,85,86],\n",
    "     'Recall': [69,70,83,85],\n",
    "     'F1-Score': [80,70,84,86],\n",
    "    })\n",
    "df.columns = ['Classifier', 'Accuracy','Precision','Recall', 'F1-Score']\n",
    "print(df)"
   ]
  },
  {
   "cell_type": "code",
   "execution_count": 29,
   "id": "ea9a7b6a",
   "metadata": {},
   "outputs": [
    {
     "data": {
      "text/plain": [
       "Text(0.5, 0.98, 'Model Performence using 32*32 Images')"
      ]
     },
     "execution_count": 29,
     "metadata": {},
     "output_type": "execute_result"
    },
    {
     "data": {
      "image/png": "[encoded data removed]",
      "text/plain": [
       "<Figure size 1110.62x360 with 4 Axes>"
      ]
     },
     "metadata": {},
     "output_type": "display_data"
    }
   ],
   "source": [
    "sns.set_style(\"whitegrid\")\n",
    "g = sns.catplot(x=\"Accuracy\", hue=\"Classifier\", col=\"Precision\",\n",
    "                data=df, y=\"Recall\", kind=\"bar\", saturation=.40, aspect=.70, height=5\n",
    "                );\n",
    "\n",
    "g.fig.subplots_adjust(top=0.9) # adjust the Figure in rp\n",
    "g.fig.suptitle('Model Performence using 32*32 Images')"
   ]
  },
  {
   "cell_type": "code",
   "execution_count": null,
   "id": "2af111a7",
   "metadata": {},
   "outputs": [],
   "source": []
  }
 ],
 "metadata": {
  "kernelspec": {
   "display_name": "Python 3",
   "language": "python",
   "name": "python3"
  },
  "language_info": {
   "codemirror_mode": {
    "name": "ipython",
    "version": 3
   },
   "file_extension": ".py",
   "mimetype": "text/x-python",
   "name": "python",
   "nbconvert_exporter": "python",
   "pygments_lexer": "ipython3",
   "version": "3.9.7"
  }
 },
 "nbformat": 4,
 "nbformat_minor": 5
}
