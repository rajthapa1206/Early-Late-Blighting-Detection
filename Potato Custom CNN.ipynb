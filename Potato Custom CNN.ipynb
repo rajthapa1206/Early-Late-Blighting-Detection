{
 "cells": [
  {
   "cell_type": "markdown",
   "metadata": {},
   "source": [
    "# GROUP-3\n",
    "#MD Fakrul Islam (613839)\n",
    "#Adama Daffeh (613827) \n",
    "#Raj Kumar Thapa (613819)\n",
    "#Adane Nigus (112351) "
   ]
  },
  {
   "cell_type": "markdown",
   "metadata": {
    "id": "89B27-TGiDNB"
   },
   "source": [
    "## Imports"
   ]
  },
  {
   "cell_type": "code",
   "execution_count": 13,
   "metadata": {
    "colab": {
     "base_uri": "https://localhost:8080/"
    },
    "id": "U6rgexPXmY37",
    "outputId": "f8c29298-418d-4bec-9264-fb12dadfae7f"
   },
   "outputs": [
    {
     "name": "stdout",
     "output_type": "stream",
     "text": [
      "Tensorflow version 2.3.0\n"
     ]
    }
   ],
   "source": [
    "import os, sys, math\n",
    "import numpy as np\n",
    "from matplotlib import pyplot as plt\n",
    "import tensorflow as tf\n",
    "print(\"Tensorflow version \" + tf.__version__)\n",
    "AUTO = tf.data.experimental.AUTOTUNE "
   ]
  },
  {
   "cell_type": "markdown",
   "metadata": {
    "id": "w9S3uKC_iXY5"
   },
   "source": [
    "## Configuration"
   ]
  },
  {
   "cell_type": "code",
   "execution_count": 2,
   "metadata": {
    "colab": {
     "base_uri": "https://localhost:8080/"
    },
    "id": "d8K6hL_kiWve",
    "outputId": "90aac908-7687-4ef8-b6cf-124f120ce549"
   },
   "outputs": [
    {
     "name": "stdout",
     "output_type": "stream",
     "text": [
      "[b'EarlyBlight', b'Healthy', b'LateBlight']\n"
     ]
    }
   ],
   "source": [
    "TARGET_SIZE = [150, 150]\n",
    "CLASSES = [b'EarlyBlight', b'Healthy', b'LateBlight'] # do not change, maps to the labels in the data (folder names)\n",
    "print(CLASSES)"
   ]
  },
  {
   "cell_type": "code",
   "execution_count": 3,
   "metadata": {
    "colab": {
     "base_uri": "https://localhost:8080/"
    },
    "id": "B4YL-d5_MrGY",
    "outputId": "85fc07e3-3778-472a-b891-d360e2a704ff"
   },
   "outputs": [
    {
     "name": "stdout",
     "output_type": "stream",
     "text": [
      "Requirement already satisfied: scikit-image in d:\\software_installed\\anaconda3\\lib\\site-packages (0.18.1)\n",
      "Requirement already satisfied: numpy>=1.16.5 in d:\\software_installed\\anaconda3\\lib\\site-packages (from scikit-image) (1.20.1)\n",
      "Requirement already satisfied: scipy>=1.0.1 in d:\\software_installed\\anaconda3\\lib\\site-packages (from scikit-image) (1.6.2)\n",
      "Requirement already satisfied: matplotlib!=3.0.0,>=2.0.0 in d:\\software_installed\\anaconda3\\lib\\site-packages (from scikit-image) (3.3.4)\n",
      "Requirement already satisfied: networkx>=2.0 in d:\\software_installed\\anaconda3\\lib\\site-packages (from scikit-image) (2.5)\n",
      "Requirement already satisfied: pillow!=7.1.0,!=7.1.1,>=4.3.0 in d:\\software_installed\\anaconda3\\lib\\site-packages (from scikit-image) (8.2.0)\n",
      "Requirement already satisfied: imageio>=2.3.0 in d:\\software_installed\\anaconda3\\lib\\site-packages (from scikit-image) (2.9.0)\n",
      "Requirement already satisfied: tifffile>=2019.7.26 in d:\\software_installed\\anaconda3\\lib\\site-packages (from scikit-image) (2021.4.8)\n",
      "Requirement already satisfied: PyWavelets>=1.1.1 in d:\\software_installed\\anaconda3\\lib\\site-packages (from scikit-image) (1.1.1)\n",
      "Requirement already satisfied: pyparsing!=2.0.4,!=2.1.2,!=2.1.6,>=2.0.3 in d:\\software_installed\\anaconda3\\lib\\site-packages (from matplotlib!=3.0.0,>=2.0.0->scikit-image) (2.4.7)\n",
      "Requirement already satisfied: python-dateutil>=2.1 in d:\\software_installed\\anaconda3\\lib\\site-packages (from matplotlib!=3.0.0,>=2.0.0->scikit-image) (2.8.1)\n",
      "Requirement already satisfied: cycler>=0.10 in d:\\software_installed\\anaconda3\\lib\\site-packages (from matplotlib!=3.0.0,>=2.0.0->scikit-image) (0.10.0)\n",
      "Requirement already satisfied: kiwisolver>=1.0.1 in d:\\software_installed\\anaconda3\\lib\\site-packages (from matplotlib!=3.0.0,>=2.0.0->scikit-image) (1.3.1)\n",
      "Requirement already satisfied: six in d:\\software_installed\\anaconda3\\lib\\site-packages (from cycler>=0.10->matplotlib!=3.0.0,>=2.0.0->scikit-image) (1.15.0)\n",
      "Requirement already satisfied: decorator>=4.3.0 in d:\\software_installed\\anaconda3\\lib\\site-packages (from networkx>=2.0->scikit-image) (5.0.6)\n"
     ]
    }
   ],
   "source": [
    "!pip install scikit-image"
   ]
  },
  {
   "cell_type": "code",
   "execution_count": 14,
   "metadata": {
    "id": "QFkNN2BZN-hp"
   },
   "outputs": [],
   "source": [
    "from glob import glob  \n",
    "import os                                                         \n",
    "import cv2 \n",
    "import re\n",
    "from os.path import join\n",
    "from glob import glob"
   ]
  },
  {
   "cell_type": "code",
   "execution_count": 21,
   "metadata": {},
   "outputs": [],
   "source": [
    "datagen = tf.keras.preprocessing.image.ImageDataGenerator(\n",
    "        rescale = 1./255,\n",
    "        rotation_range=45,     #Random rotation between 0 and 45\n",
    "        width_shift_range=0.2,   #% shift\n",
    "        height_shift_range=0.2,\n",
    "        shear_range=0.2,\n",
    "        zoom_range=0.2,\n",
    "        horizontal_flip=True,\n",
    "        brightness_range=[0.2,1.2], # brightness\n",
    "        fill_mode='reflect', cval=125)    #Also try nearest, constant, reflect, wrap"
   ]
  },
  {
   "cell_type": "code",
   "execution_count": 22,
   "metadata": {
    "id": "C6-MJ9PfM5qt"
   },
   "outputs": [],
   "source": [
    "#tf.keras.preprocessing.image.ImageDataGenerator\n",
    "from skimage import io"
   ]
  },
  {
   "cell_type": "code",
   "execution_count": 23,
   "metadata": {
    "colab": {
     "base_uri": "https://localhost:8080/"
    },
    "id": "RUmJXT4sNFaF",
    "outputId": "be2b3182-3bc8-42e4-f309-393893dca850"
   },
   "outputs": [
    {
     "name": "stdout",
     "output_type": "stream",
     "text": [
      "Found 1506 images belonging to 3 classes.\n",
      "Found 322 images belonging to 3 classes.\n"
     ]
    }
   ],
   "source": [
    "import tensorflow as tf\n",
    "import keras_preprocessing\n",
    "from keras_preprocessing import image\n",
    "from keras_preprocessing.image import ImageDataGenerator\n",
    "\n",
    "TRAINING_DIR = \"F:/machine_learning_project/split/train/\"\n",
    "training_datagen = ImageDataGenerator(\n",
    "      rescale = 1./255,\n",
    "\t  rotation_range=40,\n",
    "      width_shift_range=0.2,\n",
    "      height_shift_range=0.2,\n",
    "      shear_range=0.2,\n",
    "      zoom_range=0.2,\n",
    "      horizontal_flip=True,\n",
    "      fill_mode='reflect')\n",
    "\n",
    "VALIDATION_DIR = \"F:/machine_learning_project/split/val/\"\n",
    "validation_datagen = ImageDataGenerator(rescale = 1./255)\n",
    "\n",
    "train_generator = training_datagen.flow_from_directory(\n",
    "\tTRAINING_DIR,\n",
    "\ttarget_size=(150,150),\n",
    "\tclass_mode='categorical',\n",
    "  batch_size=126\n",
    ")\n",
    "\n",
    "validation_generator = validation_datagen.flow_from_directory(\n",
    "\tVALIDATION_DIR,\n",
    "\ttarget_size=(150,150),\n",
    "\tclass_mode='categorical',\n",
    "  batch_size=126\n",
    ")"
   ]
  },
  {
   "cell_type": "code",
   "execution_count": 24,
   "metadata": {},
   "outputs": [
    {
     "name": "stdout",
     "output_type": "stream",
     "text": [
      "Found 324 images belonging to 3 classes.\n"
     ]
    }
   ],
   "source": [
    "TESTING_DIR = \"F:/machine_learning_project/split/test/\"\n",
    "testing_datagen = ImageDataGenerator(\n",
    "      rescale = 1./255,\n",
    "\t  rotation_range=40,\n",
    "      width_shift_range=0.2,\n",
    "      height_shift_range=0.2,\n",
    "      shear_range=0.2,\n",
    "      zoom_range=0.2,\n",
    "      horizontal_flip=True,\n",
    "      fill_mode='reflect')\n",
    "testing_generator = testing_datagen.flow_from_directory(\n",
    "\tTESTING_DIR,\n",
    "\ttarget_size=(150,150),\n",
    "\tclass_mode='categorical',\n",
    "  batch_size=126\n",
    ")"
   ]
  },
  {
   "cell_type": "code",
   "execution_count": 26,
   "metadata": {
    "colab": {
     "base_uri": "https://localhost:8080/"
    },
    "id": "A0knoF3MNnKF",
    "outputId": "2af5a82c-2b8f-403b-bf6a-d43390f02577"
   },
   "outputs": [
    {
     "name": "stdout",
     "output_type": "stream",
     "text": [
      "Model: \"sequential_1\"\n",
      "_________________________________________________________________\n",
      "Layer (type)                 Output Shape              Param #   \n",
      "=================================================================\n",
      "conv2d_4 (Conv2D)            (None, 148, 148, 64)      1792      \n",
      "_________________________________________________________________\n",
      "max_pooling2d_4 (MaxPooling2 (None, 74, 74, 64)        0         \n",
      "_________________________________________________________________\n",
      "conv2d_5 (Conv2D)            (None, 72, 72, 64)        36928     \n",
      "_________________________________________________________________\n",
      "max_pooling2d_5 (MaxPooling2 (None, 36, 36, 64)        0         \n",
      "_________________________________________________________________\n",
      "conv2d_6 (Conv2D)            (None, 34, 34, 128)       73856     \n",
      "_________________________________________________________________\n",
      "max_pooling2d_6 (MaxPooling2 (None, 17, 17, 128)       0         \n",
      "_________________________________________________________________\n",
      "conv2d_7 (Conv2D)            (None, 15, 15, 128)       147584    \n",
      "_________________________________________________________________\n",
      "max_pooling2d_7 (MaxPooling2 (None, 7, 7, 128)         0         \n",
      "_________________________________________________________________\n",
      "flatten_1 (Flatten)          (None, 6272)              0         \n",
      "_________________________________________________________________\n",
      "dropout_1 (Dropout)          (None, 6272)              0         \n",
      "_________________________________________________________________\n",
      "dense_2 (Dense)              (None, 512)               3211776   \n",
      "_________________________________________________________________\n",
      "dense_3 (Dense)              (None, 3)                 1539      \n",
      "=================================================================\n",
      "Total params: 3,473,475\n",
      "Trainable params: 3,473,475\n",
      "Non-trainable params: 0\n",
      "_________________________________________________________________\n"
     ]
    }
   ],
   "source": [
    "model = tf.keras.models.Sequential([\n",
    "    # Note the input shape is the desired size of the image 150x150 with 3 bytes color\n",
    "    # This is the first convolution\n",
    "    tf.keras.layers.Conv2D(64, (3,3), activation='relu', input_shape=(150, 150, 3)),\n",
    "    tf.keras.layers.MaxPooling2D(2, 2),\n",
    "    # The second convolution\n",
    "    tf.keras.layers.Conv2D(64, (3,3), activation='relu'),\n",
    "    tf.keras.layers.MaxPooling2D(2,2),\n",
    "    # The third convolution\n",
    "    tf.keras.layers.Conv2D(128, (3,3), activation='relu'),\n",
    "    tf.keras.layers.MaxPooling2D(2,2),\n",
    "    # The fourth convolution\n",
    "    tf.keras.layers.Conv2D(128, (3,3), activation='relu'),\n",
    "    tf.keras.layers.MaxPooling2D(2,2),\n",
    "    # Flatten the results to feed into a DNN\n",
    "    tf.keras.layers.Flatten(),\n",
    "    tf.keras.layers.Dropout(0.5),\n",
    "    # 512 neuron hidden layer\n",
    "    tf.keras.layers.Dense(512, activation='relu'),\n",
    "    tf.keras.layers.Dense(3, activation='softmax')\n",
    "])\n",
    "\n",
    "\n",
    "model.summary()\n",
    "\n",
    "model.compile(loss = 'categorical_crossentropy', optimizer='rmsprop', metrics=['accuracy'])"
   ]
  },
  {
   "cell_type": "code",
   "execution_count": 35,
   "metadata": {},
   "outputs": [
    {
     "name": "stdout",
     "output_type": "stream",
     "text": [
      "Epoch 1/20\n",
      "10/10 [==============================] - 82s 8s/step - loss: 0.8040 - accuracy: 0.6500 - val_loss: 1.1109 - val_accuracy: 0.4720\n",
      "Epoch 2/20\n",
      "10/10 [==============================] - 83s 8s/step - loss: 0.7835 - accuracy: 0.6196 - val_loss: 0.8103 - val_accuracy: 0.4752\n",
      "Epoch 3/20\n",
      "10/10 [==============================] - 78s 8s/step - loss: 0.8659 - accuracy: 0.6220 - val_loss: 0.7946 - val_accuracy: 0.6304\n",
      "Epoch 4/20\n",
      "10/10 [==============================] - 87s 9s/step - loss: 0.8510 - accuracy: 0.6810 - val_loss: 0.6321 - val_accuracy: 0.7857\n",
      "Epoch 5/20\n",
      "10/10 [==============================] - 82s 8s/step - loss: 0.6619 - accuracy: 0.7416 - val_loss: 1.5635 - val_accuracy: 0.5994\n",
      "Epoch 6/20\n",
      "10/10 [==============================] - 79s 8s/step - loss: 0.7294 - accuracy: 0.7241 - val_loss: 1.0519 - val_accuracy: 0.4752\n",
      "Epoch 7/20\n",
      "10/10 [==============================] - 88s 9s/step - loss: 0.6541 - accuracy: 0.7233 - val_loss: 0.6578 - val_accuracy: 0.7360\n",
      "Epoch 8/20\n",
      "10/10 [==============================] - 80s 8s/step - loss: 0.5888 - accuracy: 0.7632 - val_loss: 0.5057 - val_accuracy: 0.7702\n",
      "Epoch 9/20\n",
      "10/10 [==============================] - 79s 8s/step - loss: 0.7874 - accuracy: 0.7193 - val_loss: 1.3407 - val_accuracy: 0.5745\n",
      "Epoch 10/20\n",
      "10/10 [==============================] - 92s 9s/step - loss: 0.6571 - accuracy: 0.7352 - val_loss: 0.7038 - val_accuracy: 0.7298\n",
      "Epoch 11/20\n",
      "10/10 [==============================] - 80s 8s/step - loss: 0.6141 - accuracy: 0.7879 - val_loss: 1.3747 - val_accuracy: 0.5963\n",
      "Epoch 12/20\n",
      "10/10 [==============================] - 86s 9s/step - loss: 0.5784 - accuracy: 0.7496 - val_loss: 0.3605 - val_accuracy: 0.8758\n",
      "Epoch 13/20\n",
      "10/10 [==============================] - 82s 8s/step - loss: 0.5674 - accuracy: 0.7683 - val_loss: 0.8612 - val_accuracy: 0.7205\n",
      "Epoch 14/20\n",
      "10/10 [==============================] - 75s 8s/step - loss: 0.5568 - accuracy: 0.7648 - val_loss: 0.9750 - val_accuracy: 0.6460\n",
      "Epoch 15/20\n",
      "10/10 [==============================] - 87s 9s/step - loss: 0.7747 - accuracy: 0.7185 - val_loss: 0.6622 - val_accuracy: 0.7733\n",
      "Epoch 16/20\n",
      "10/10 [==============================] - 76s 8s/step - loss: 0.5121 - accuracy: 0.8087 - val_loss: 0.5320 - val_accuracy: 0.7764\n",
      "Epoch 17/20\n",
      "10/10 [==============================] - 80s 8s/step - loss: 0.4096 - accuracy: 0.8246 - val_loss: 1.0726 - val_accuracy: 0.6211\n",
      "Epoch 18/20\n",
      "10/10 [==============================] - 89s 9s/step - loss: 0.6955 - accuracy: 0.7416 - val_loss: 0.6818 - val_accuracy: 0.7298\n",
      "Epoch 19/20\n",
      "10/10 [==============================] - 77s 8s/step - loss: 0.4760 - accuracy: 0.8357 - val_loss: 0.3990 - val_accuracy: 0.8230\n",
      "Epoch 20/20\n",
      "10/10 [==============================] - 90s 9s/step - loss: 0.3756 - accuracy: 0.8533 - val_loss: 0.4532 - val_accuracy: 0.8168\n"
     ]
    }
   ],
   "source": [
    "history = model.fit(train_generator, epochs=20, steps_per_epoch=8, validation_data = validation_generator, verbose = 1, validation_steps=8)\n",
    "\n",
    "model.save(\"F:/machine_learning_project/custom_cnn_potato.h5\")"
   ]
  },
  {
   "cell_type": "code",
   "execution_count": 36,
   "metadata": {
    "colab": {
     "base_uri": "https://localhost:8080/",
     "height": 298
    },
    "id": "uW9VmEtGRwPd",
    "outputId": "81300d36-bcb6-42d7-946c-a77be1c6bfff"
   },
   "outputs": [
    {
     "data": {
      "image/png": "[encoded data removed]",
      "text/plain": [
       "<Figure size 432x288 with 1 Axes>"
      ]
     },
     "metadata": {
      "needs_background": "light"
     },
     "output_type": "display_data"
    },
    {
     "data": {
      "text/plain": [
       "<Figure size 432x288 with 0 Axes>"
      ]
     },
     "metadata": {},
     "output_type": "display_data"
    }
   ],
   "source": [
    "import matplotlib.pyplot as plt\n",
    "acc = history.history['accuracy']\n",
    "val_acc = history.history['val_accuracy']\n",
    "loss = history.history['loss']\n",
    "val_loss = history.history['val_loss']\n",
    "\n",
    "epochs = range(len(acc))\n",
    "\n",
    "plt.plot(epochs, acc, 'r', label='Training accuracy')\n",
    "plt.plot(epochs, val_acc, 'b', label='Validation accuracy')\n",
    "plt.title('Training and validation accuracy')\n",
    "plt.legend(loc=0)\n",
    "plt.figure()\n",
    "\n",
    "\n",
    "plt.show()"
   ]
  },
  {
   "cell_type": "code",
   "execution_count": 37,
   "metadata": {
    "colab": {
     "base_uri": "https://localhost:8080/"
    },
    "id": "CjF1k4XIYZPs",
    "outputId": "b4e26558-88f4-49e2-f902-4a549b99a61a"
   },
   "outputs": [
    {
     "name": "stdout",
     "output_type": "stream",
     "text": [
      "Mean Validation Accuracy: 0.7378881990909576\n"
     ]
    }
   ],
   "source": [
    "type(val_acc)\n",
    "mean_val= np.mean(val_acc[-10:])\n",
    "print('Mean Validation Accuracy: {}'.format(mean_val))"
   ]
  },
  {
   "cell_type": "code",
   "execution_count": null,
   "metadata": {},
   "outputs": [],
   "source": []
  }
 ],
 "metadata": {
  "accelerator": "GPU",
  "colab": {
   "collapsed_sections": [],
   "name": "aifakrul_Potato_TF_CNN.ipynb",
   "provenance": []
  },
  "kernelspec": {
   "display_name": "Python 3",
   "language": "python",
   "name": "python3"
  },
  "language_info": {
   "codemirror_mode": {
    "name": "ipython",
    "version": 3
   },
   "file_extension": ".py",
   "mimetype": "text/x-python",
   "name": "python",
   "nbconvert_exporter": "python",
   "pygments_lexer": "ipython3",
   "version": "3.8.8"
  }
 },
 "nbformat": 4,
 "nbformat_minor": 1
}
